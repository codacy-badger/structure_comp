{
 "cells": [
  {
   "cell_type": "markdown",
   "metadata": {},
   "source": [
    "# farthest point"
   ]
  },
  {
   "cell_type": "code",
   "execution_count": 1,
   "metadata": {},
   "outputs": [
    {
     "name": "stderr",
     "output_type": "stream",
     "text": [
      "/home/kevin/anaconda3/lib/python3.6/site-packages/tqdm/autonotebook/__init__.py:14: TqdmExperimentalWarning: Using `tqdm.autonotebook.tqdm` in notebook mode. Use `tqdm.tqdm` instead to force console mode (e.g. in jupyter console)\n",
      "  \" (e.g. in jupyter console)\", TqdmExperimentalWarning)\n"
     ]
    }
   ],
   "source": [
    "from structure_comp.comparators import Sampling"
   ]
  },
  {
   "cell_type": "code",
   "execution_count": 2,
   "metadata": {},
   "outputs": [],
   "source": [
    "import pandas as pd \n",
    "df = pd.read_csv('/home/kevin/Documents/uni/EPFL/extension_school/cof_project/core_cofs.csv')"
   ]
  },
  {
   "cell_type": "code",
   "execution_count": 3,
   "metadata": {},
   "outputs": [
    {
     "data": {
      "text/html": [
       "<div>\n",
       "<style scoped>\n",
       "    .dataframe tbody tr th:only-of-type {\n",
       "        vertical-align: middle;\n",
       "    }\n",
       "\n",
       "    .dataframe tbody tr th {\n",
       "        vertical-align: top;\n",
       "    }\n",
       "\n",
       "    .dataframe thead th {\n",
       "        text-align: right;\n",
       "    }\n",
       "</style>\n",
       "<table border=\"1\" class=\"dataframe\">\n",
       "  <thead>\n",
       "    <tr style=\"text-align: right;\">\n",
       "      <th></th>\n",
       "      <th>Unnamed: 0</th>\n",
       "      <th>density</th>\n",
       "      <th>high</th>\n",
       "      <th>lfs</th>\n",
       "      <th>lifs</th>\n",
       "      <th>lis</th>\n",
       "      <th>low</th>\n",
       "      <th>name</th>\n",
       "      <th>new</th>\n",
       "      <th>pav</th>\n",
       "      <th>pockets</th>\n",
       "      <th>void</th>\n",
       "    </tr>\n",
       "  </thead>\n",
       "  <tbody>\n",
       "    <tr>\n",
       "      <th>0</th>\n",
       "      <td>0</td>\n",
       "      <td>547.660</td>\n",
       "      <td>182.576975</td>\n",
       "      <td>13.19498</td>\n",
       "      <td>13.61190</td>\n",
       "      <td>13.61190</td>\n",
       "      <td>42.700404</td>\n",
       "      <td>18134N3</td>\n",
       "      <td>139.876571</td>\n",
       "      <td>3540.770</td>\n",
       "      <td>0</td>\n",
       "      <td>0.60813</td>\n",
       "    </tr>\n",
       "    <tr>\n",
       "      <th>1</th>\n",
       "      <td>1</td>\n",
       "      <td>619.925</td>\n",
       "      <td>202.998613</td>\n",
       "      <td>7.14934</td>\n",
       "      <td>8.64010</td>\n",
       "      <td>8.65257</td>\n",
       "      <td>76.768564</td>\n",
       "      <td>18133N3</td>\n",
       "      <td>126.230049</td>\n",
       "      <td>7023.560</td>\n",
       "      <td>0</td>\n",
       "      <td>0.57731</td>\n",
       "    </tr>\n",
       "    <tr>\n",
       "      <th>2</th>\n",
       "      <td>2</td>\n",
       "      <td>1115.100</td>\n",
       "      <td>84.401736</td>\n",
       "      <td>4.09217</td>\n",
       "      <td>4.26472</td>\n",
       "      <td>4.35137</td>\n",
       "      <td>66.888621</td>\n",
       "      <td>18131N3</td>\n",
       "      <td>17.513115</td>\n",
       "      <td>594.114</td>\n",
       "      <td>0</td>\n",
       "      <td>0.17295</td>\n",
       "    </tr>\n",
       "    <tr>\n",
       "      <th>3</th>\n",
       "      <td>3</td>\n",
       "      <td>735.312</td>\n",
       "      <td>180.998856</td>\n",
       "      <td>8.87995</td>\n",
       "      <td>8.97578</td>\n",
       "      <td>8.97859</td>\n",
       "      <td>96.221635</td>\n",
       "      <td>18132N3</td>\n",
       "      <td>84.777221</td>\n",
       "      <td>2604.970</td>\n",
       "      <td>0</td>\n",
       "      <td>0.50005</td>\n",
       "    </tr>\n",
       "    <tr>\n",
       "      <th>4</th>\n",
       "      <td>4</td>\n",
       "      <td>733.931</td>\n",
       "      <td>177.942818</td>\n",
       "      <td>8.93720</td>\n",
       "      <td>9.07194</td>\n",
       "      <td>9.07194</td>\n",
       "      <td>94.195185</td>\n",
       "      <td>18130N3</td>\n",
       "      <td>83.747634</td>\n",
       "      <td>2620.210</td>\n",
       "      <td>0</td>\n",
       "      <td>0.50203</td>\n",
       "    </tr>\n",
       "  </tbody>\n",
       "</table>\n",
       "</div>"
      ],
      "text/plain": [
       "   Unnamed: 0   density        high       lfs      lifs       lis        low  \\\n",
       "0           0   547.660  182.576975  13.19498  13.61190  13.61190  42.700404   \n",
       "1           1   619.925  202.998613   7.14934   8.64010   8.65257  76.768564   \n",
       "2           2  1115.100   84.401736   4.09217   4.26472   4.35137  66.888621   \n",
       "3           3   735.312  180.998856   8.87995   8.97578   8.97859  96.221635   \n",
       "4           4   733.931  177.942818   8.93720   9.07194   9.07194  94.195185   \n",
       "\n",
       "      name         new       pav  pockets     void  \n",
       "0  18134N3  139.876571  3540.770        0  0.60813  \n",
       "1  18133N3  126.230049  7023.560        0  0.57731  \n",
       "2  18131N3   17.513115   594.114        0  0.17295  \n",
       "3  18132N3   84.777221  2604.970        0  0.50005  \n",
       "4  18130N3   83.747634  2620.210        0  0.50203  "
      ]
     },
     "execution_count": 3,
     "metadata": {},
     "output_type": "execute_result"
    }
   ],
   "source": [
    "df.head()"
   ]
  },
  {
   "cell_type": "code",
   "execution_count": 4,
   "metadata": {},
   "outputs": [
    {
     "data": {
      "text/plain": [
       "16     18082N2\n",
       "307    07001N2\n",
       "14     18100N2\n",
       "67     17050N2\n",
       "26     18032N2\n",
       "10     18101N2\n",
       "66     17091N3\n",
       "72     17000N2\n",
       "109    16280C2\n",
       "120    16200N2\n",
       "Name: name, dtype: object"
      ]
     },
     "execution_count": 4,
     "metadata": {},
     "output_type": "execute_result"
    }
   ],
   "source": [
    "Sampling.get_farthest_point_samples(dataframe=df, columns=['lfs', 'lifs', 'lis'])"
   ]
  },
  {
   "cell_type": "code",
   "execution_count": null,
   "metadata": {},
   "outputs": [],
   "source": []
  }
 ],
 "metadata": {
  "kernelspec": {
   "display_name": "Python 3",
   "language": "python",
   "name": "python3"
  },
  "language_info": {
   "codemirror_mode": {
    "name": "ipython",
    "version": 3
   },
   "file_extension": ".py",
   "mimetype": "text/x-python",
   "name": "python",
   "nbconvert_exporter": "python",
   "pygments_lexer": "ipython3",
   "version": "3.6.8"
  }
 },
 "nbformat": 4,
 "nbformat_minor": 2
}
