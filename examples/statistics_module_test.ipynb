{
 "cells": [
  {
   "cell_type": "markdown",
   "metadata": {},
   "source": [
    "# Test statistics module "
   ]
  },
  {
   "cell_type": "code",
   "execution_count": 1,
   "metadata": {},
   "outputs": [
    {
     "name": "stderr",
     "output_type": "stream",
     "text": [
      "/home/kevin/anaconda3/lib/python3.6/site-packages/tqdm/autonotebook/__init__.py:14: TqdmExperimentalWarning: Using `tqdm.autonotebook.tqdm` in notebook mode. Use `tqdm.tqdm` instead to force console mode (e.g. in jupyter console)\n",
      "  \" (e.g. in jupyter console)\", TqdmExperimentalWarning)\n"
     ]
    }
   ],
   "source": [
    "from remove_duplicates.statistics import * \n",
    "from remove_duplicates.remove_duplicates import RemoveDuplicates"
   ]
  },
  {
   "cell_type": "code",
   "execution_count": 2,
   "metadata": {},
   "outputs": [],
   "source": [
    "structures = RemoveDuplicates.get_structure_list('/home/kevin/Documents/uni/EPFL/master_thesis/CoRE-COF-Database/CoRE-COF-DT187-v1.0/')"
   ]
  },
  {
   "cell_type": "code",
   "execution_count": 3,
   "metadata": {},
   "outputs": [
    {
     "data": {
      "application/vnd.jupyter.widget-view+json": {
       "model_id": "8b32f84afec344c0a7b47723f0c5bc64",
       "version_major": 2,
       "version_minor": 0
      },
      "text/html": [
       "<p>Failed to display Jupyter Widget of type <code>HBox</code>.</p>\n",
       "<p>\n",
       "  If you're reading this message in the Jupyter Notebook or JupyterLab Notebook, it may mean\n",
       "  that the widgets JavaScript is still loading. If this message persists, it\n",
       "  likely means that the widgets JavaScript library is either not installed or\n",
       "  not enabled. See the <a href=\"https://ipywidgets.readthedocs.io/en/stable/user_install.html\">Jupyter\n",
       "  Widgets Documentation</a> for setup instructions.\n",
       "</p>\n",
       "<p>\n",
       "  If you're reading this message in another frontend (for example, a static\n",
       "  rendering on GitHub or <a href=\"https://nbviewer.jupyter.org/\">NBViewer</a>),\n",
       "  it may mean that your frontend doesn't currently support widgets.\n",
       "</p>\n"
      ],
      "text/plain": [
       "HBox(children=(IntProgress(value=0, max=1000), HTML(value='')))"
      ]
     },
     "metadata": {},
     "output_type": "display_data"
    },
    {
     "name": "stderr",
     "output_type": "stream",
     "text": [
      "/home/kevin/.local/lib/python3.6/site-packages/ase/io/cif.py:321: UserWarning: crystal system 'triclinic' is not interpreated for space group Spacegroup(1, setting=1). This may result in wrong setting!\n",
      "  setting_name, spacegroup))\n",
      "/home/kevin/.local/lib/python3.6/site-packages/ase/io/cif.py:321: UserWarning: crystal system 'orthorhombic' is not interpreated for space group Spacegroup(65, setting=1). This may result in wrong setting!\n",
      "  setting_name, spacegroup))\n"
     ]
    },
    {
     "name": "stdout",
     "output_type": "stream",
     "text": [
      "\n"
     ]
    }
   ],
   "source": [
    "rmsd_boostrapped = randomized_rmsd(structures, iterations=1000)"
   ]
  },
  {
   "cell_type": "markdown",
   "metadata": {},
   "source": [
    "The graph construction and comparison is a lot slower than RMSD. "
   ]
  },
  {
   "cell_type": "code",
   "execution_count": 4,
   "metadata": {},
   "outputs": [
    {
     "data": {
      "application/vnd.jupyter.widget-view+json": {
       "model_id": "d4af56761c7d421cb36cc43f98e9df38",
       "version_major": 2,
       "version_minor": 0
      },
      "text/html": [
       "<p>Failed to display Jupyter Widget of type <code>HBox</code>.</p>\n",
       "<p>\n",
       "  If you're reading this message in the Jupyter Notebook or JupyterLab Notebook, it may mean\n",
       "  that the widgets JavaScript is still loading. If this message persists, it\n",
       "  likely means that the widgets JavaScript library is either not installed or\n",
       "  not enabled. See the <a href=\"https://ipywidgets.readthedocs.io/en/stable/user_install.html\">Jupyter\n",
       "  Widgets Documentation</a> for setup instructions.\n",
       "</p>\n",
       "<p>\n",
       "  If you're reading this message in another frontend (for example, a static\n",
       "  rendering on GitHub or <a href=\"https://nbviewer.jupyter.org/\">NBViewer</a>),\n",
       "  it may mean that your frontend doesn't currently support widgets.\n",
       "</p>\n"
      ],
      "text/plain": [
       "HBox(children=(IntProgress(value=0, max=1000), HTML(value='')))"
      ]
     },
     "metadata": {},
     "output_type": "display_data"
    },
    {
     "name": "stderr",
     "output_type": "stream",
     "text": [
      "/home/kevin/anaconda3/lib/python3.6/site-packages/pymatgen/io/cif.py:44: UserWarning: Please install optional dependency pybtex if youwant to extract references from CIF files.\n",
      "  warnings.warn(\"Please install optional dependency pybtex if you\"\n",
      "/home/kevin/anaconda3/lib/python3.6/site-packages/pymatgen/io/cif.py:1113: UserWarning: Issues encountered while parsing CIF:\n",
      "  warnings.warn(\"Issues encountered while parsing CIF:\")\n",
      "/home/kevin/anaconda3/lib/python3.6/site-packages/pymatgen/io/cif.py:1115: UserWarning: Some fractional co-ordinates rounded to ideal values to avoid finite precision errors.\n",
      "  warnings.warn(error)\n"
     ]
    },
    {
     "name": "stdout",
     "output_type": "stream",
     "text": [
      "\n"
     ]
    }
   ],
   "source": [
    "jaccard_bootstrapped = randomized_graphs(structures, iterations=1000)"
   ]
  },
  {
   "cell_type": "code",
   "execution_count": 10,
   "metadata": {},
   "outputs": [
    {
     "data": {
      "text/plain": [
       "<matplotlib.axes._subplots.AxesSubplot at 0x7f72c3425198>"
      ]
     },
     "execution_count": 10,
     "metadata": {},
     "output_type": "execute_result"
    },
    {
     "data": {
      "image/png": "[encoded data removed]",
      "text/plain": [
       "<Figure size 432x288 with 1 Axes>"
      ]
     },
     "metadata": {},
     "output_type": "display_data"
    }
   ],
   "source": [
    "import seaborn as sns\n",
    "sns.violinplot(rmsd_boostrapped)\n",
    "sns.violinplot(jaccard_bootstrapped, color='orange')"
   ]
  },
  {
   "cell_type": "code",
   "execution_count": 6,
   "metadata": {},
   "outputs": [],
   "source": [
    "nn_strategy = JmolNN()\n",
    "crystal_a = Structure.from_file(structures[0])\n",
    "sgraph_a = StructureGraph.with_local_env_strategy(\n",
    " crystal_a, nn_strategy)"
   ]
  },
  {
   "cell_type": "code",
   "execution_count": 7,
   "metadata": {},
   "outputs": [],
   "source": [
    "reduced = crystal_a.get_reduced_structure()"
   ]
  },
  {
   "cell_type": "code",
   "execution_count": 33,
   "metadata": {},
   "outputs": [],
   "source": [
    "sgraph_a = StructureGraph.with_local_env_strategy(reduced, nn_strategy)"
   ]
  },
  {
   "cell_type": "code",
   "execution_count": 3,
   "metadata": {},
   "outputs": [
    {
     "name": "stderr",
     "output_type": "stream",
     "text": [
      "/home/kevin/anaconda3/lib/python3.6/site-packages/pymatgen/io/cif.py:44: UserWarning: Please install optional dependency pybtex if youwant to extract references from CIF files.\n",
      "  warnings.warn(\"Please install optional dependency pybtex if you\"\n",
      "/home/kevin/anaconda3/lib/python3.6/site-packages/pymatgen/io/cif.py:1113: UserWarning: Issues encountered while parsing CIF:\n",
      "  warnings.warn(\"Issues encountered while parsing CIF:\")\n",
      "/home/kevin/anaconda3/lib/python3.6/site-packages/pymatgen/io/cif.py:1115: UserWarning: Some fractional co-ordinates rounded to ideal values to avoid finite precision errors.\n",
      "  warnings.warn(error)\n"
     ]
    },
    {
     "data": {
      "text/plain": [
       "defaultdict(list,\n",
       "            {'-9223363290597773624-1349045280104071859': ['COF-42-gra.cif'],\n",
       "             '8746257038554-600920063476364732': ['COF-43-bnn.cif'],\n",
       "             '-92233632905977785652697310410815871463': ['HCC-H2P-COF.cif'],\n",
       "             '87462569973598912403916040346899': ['CuP-SQ_COF.cif'],\n",
       "             '87462569971496577234536943723366': ['H2P-COF.cif'],\n",
       "             '-9223363290599915888129731885769613390': ['BLP-2H-AA.cif'],\n",
       "             '-9223363290597736935752149876694523594': ['BF-COF-2.cif'],\n",
       "             '87462570364718936999456459738780': ['HBC-COF-real.cif'],\n",
       "             '87462570364154394952398246256316': ['TPBD-ME2.cif'],\n",
       "             '8746254859938-1260323670865045566': ['3D-Py-COF-2P.cif'],\n",
       "             '874625485978468378615800684533': ['T-COF_3.cif'],\n",
       "             '-9223363290597736774-4146738376481495125': ['NTU-COF-2.cif'],\n",
       "             '87462569973172555398341653980481': ['DAAQ-TFP_COF.cif'],\n",
       "             '-9223363290597737468-1533187841467496254': ['HP-COF-1.cif'],\n",
       "             '-92233632906000091006025844229833868187': ['TAPB-TFPB.cif'],\n",
       "             '-9223363290599915832-9081131560026202192': ['BDT-COF-DFT.cif'],\n",
       "             '87462548598478521602778966407687': ['CS-COF.cif'],\n",
       "             '8746254815955-6377857579926526322': ['DmaTph-23.cif'],\n",
       "             '8746257038463-1504105937873890102': ['TTF-Py-COF.cif'],\n",
       "             '-9223363290600008988-7290824314054131243': ['TTF-COF.cif'],\n",
       "             '-92233632905999408787011546333021180368': ['Ph-An-COF.cif'],\n",
       "             '8746254815752-4820443386641280581': ['TBPB_COF.cif'],\n",
       "             '8746254766796-8889720662609823920': ['NUS-14.cif'],\n",
       "             '-9223363290597778586-1273257987188648623': ['COF-11A.cif'],\n",
       "             '8746257038379-6031346151337307205': ['PCTF-3.cif'],\n",
       "             '-92233632905977737783897490405613189376': ['CuP-Ph_COF.cif'],\n",
       "             '-9223363290599915790-5182959242576193325': ['DhaTab-23.cif'],\n",
       "             '-9223363290599960046-4810383752403479870': ['TpPa-1-2F.cif'],\n",
       "             '8746257038568624177568096237176': ['Tp-Por-COF-AA.cif'],\n",
       "             '-92233632905977368237570173716887739336': ['TD-COF-5.cif'],\n",
       "             '87462548348434157858238558250237': ['Py-An_COF.cif'],\n",
       "             '-9223363290597780932-6780518964507029355': ['AEM-COF-1.cif'],\n",
       "             '8746257038400-9034149353944649232': ['DTP-ANDI-COF.cif'],\n",
       "             '87462570364296219047685944683696': ['TpPa-SO3H-Py.cif'],\n",
       "             '8746254766719-4020698320328837835': ['COF-102.cif'],\n",
       "             '8746254859791-1077782192196828717': ['NUS-3.cif'],\n",
       "             '8746257038449225418402059570494': ['TpTG-I.cif'],\n",
       "             '87462548348504156203095320656442': ['EB-COF-F.cif'],\n",
       "             '-92233632905999159168889275623457003175': ['COF-505.cif'],\n",
       "             '87462547667479102469215177982834': ['TpBDH.cif'],\n",
       "             '-92233632905977809746644761649861578379': ['4PE-3P.cif'],\n",
       "             '-92233632905977367673100931555943821496': ['Tp-Azo.cif'],\n",
       "             '-9223363290597737307-7632188057312955244': ['COF-SDU1.cif'],\n",
       "             '87462570389264543081273174614905': ['COF-1.cif'],\n",
       "             '-9223363290599940892-4924787371145931599': ['ICOF-2.cif'],\n",
       "             '87462569948525815255817949008960': ['TpBD-OMe2-FF.cif'],\n",
       "             '-92233632905977808628526371577646686818': ['NPN-1.cif'],\n",
       "             '8746254644053-6513355015807806343': ['CTC-COF.cif'],\n",
       "             '87462547666143875174955788529821': ['NTU-COF-1.cif'],\n",
       "             '-9223363290600131619-5519356348871123756': ['Pa-Py.cif'],\n",
       "             '87462547668311921390759217046820': ['HP-COF-2.cif'],\n",
       "             '874625464401190578596568164097': ['Ph-AnCD-COF.cif'],\n",
       "             '-92233632906000091563100931555943821496': ['COF-TpAzo.cif'],\n",
       "             '8746254834822-6601176338796666451': ['TpPA-2.cif'],\n",
       "             '87462569948318225111670026657019': ['CTF-0.cif'],\n",
       "             '87462547667408894350985976396775': ['COF-66.cif'],\n",
       "             '-92233632905999158601680790637858152932': ['CTF-NDC.cif'],\n",
       "             '-92233632905977786497465644124850397584': ['MPCOF.cif'],\n",
       "             '87462546441301217630552100492558': ['EB-COF-Cl.cif'],\n",
       "             '8746256994845-2381427106539090954': ['COF-AA-H.cif'],\n",
       "             '-9223363290599915867-3195538142553241977': ['PI-COF-4-2P.cif'],\n",
       "             '-9223363290597780974-6528972900450149405': ['POR-COF.cif'],\n",
       "             '-9223363290597780855-5473628694480325566': ['ZnPc-PPE.cif'],\n",
       "             '8746256994992-3570533955108872769': ['EB-COF-Br.cif'],\n",
       "             '87462570200318212336976170532903': ['NUS-10.cif'],\n",
       "             '8746257038456-8471174494180074282': ['ILCOF-1-AB.cif'],\n",
       "             '-92233632905977870697793224347189408949': ['COF-320.cif'],\n",
       "             '-92233632905977546136063017065776146903': ['TAPB-TFP.cif'],\n",
       "             '87462569878452178334007514782886': ['Pc-PBBA-COF.cif'],\n",
       "             '-9223363290599941060-758772330775573511': ['ZnPc-COF.cif'],\n",
       "             '-9223363290597755781-5524825308104096847': ['PCTF-1.cif'],\n",
       "             '-9223363290599941025-1831844132758652619': ['N3-COF.cif'],\n",
       "             '-92233632905977784535776946098155764081': ['BDT-OEt_COF.cif'],\n",
       "             '87462569950137082250008970627320': ['PI-2-COF.cif'],\n",
       "             '-9223363290600131745-6547091028132130738': ['T-COF_2.cif'],\n",
       "             '87462570389128784536523088895367': ['CTF-FUM.cif'],\n",
       "             '-92233632906000090791086651316013122496': ['HO2C-H2P-COFs.cif'],\n",
       "             '8746254859868-5480813512157242839': ['Py-DHPh_COF.cif'],\n",
       "             '-9223363290599915783-280050728320392298': ['CPF-2.cif'],\n",
       "             '-92233632905977871113511390884102773287': ['COF-108.cif'],\n",
       "             '-9223363290600018137-6013631971161308313': ['OH-H2P-COF.cif'],\n",
       "             '-92233632906000091988493581119867100465': ['ILCOF-1-AA.cif'],\n",
       "             '-9223363290597737447-4605395646765813420': ['COF-300.cif'],\n",
       "             '8746254644039-1831844132758652619': ['TTI-COF.cif'],\n",
       "             '-92233632905977558797238463576903262940': ['Py-23-BPYPH_COF.cif'],\n",
       "             '87462570200662486369994516948307': ['DBA-COF_2.cif'],\n",
       "             '87462548597981366659451524099432': ['NUS-9.cif'],\n",
       "             '8746256988750-9159061231988350202': ['AEM-COF-2.cif'],\n",
       "             '-9223363290597755865-8632406119687663189': ['OH-TAPH-COF.cif'],\n",
       "             '8746256997254-1520072106960937984': ['TpPa-1.cif'],\n",
       "             '-9223363290597755851822370514763425682': ['PC-COF.cif'],\n",
       "             '-92233632905977809679049104962043359639': ['COF-103.cif'],\n",
       "             '-92233632906000036476167616082368413665': ['HAT-COF.cif'],\n",
       "             '-92233632906001318228869265546015565471': ['COF-18A.cif'],\n",
       "             '8746254757654-338562372324259849': ['HPB-COF.cif'],\n",
       "             '-9223363290597780939-4674077980458989466': ['TpBD-NH2.cif'],\n",
       "             '87462570363947991940091133856088': ['TPT-COF-2.cif'],\n",
       "             '87462570384212125663083417580852': ['COF-43-gra.cif'],\n",
       "             '-92233632906000617385261198419649478372': ['4PE-TT.cif'],\n",
       "             '-92233632906000181721265496135662962762': ['Star-COF-2.cif'],\n",
       "             '8746257038414-2381427106539090954': ['4PE-1P.cif'],\n",
       "             '8746254714095-4345920808160256266': ['BF-COF-1.cif'],\n",
       "             '-9223363290600061731-6824149782699303614': ['Py-COF.cif'],\n",
       "             '-92233632906000089952139564576426531330': ['TH-COF-1.cif'],\n",
       "             '87462547139066887010547793745775': ['BLP-2H-AB.cif'],\n",
       "             '-9223363290600131661-3878517647888193367': ['TpPA-NO2.cif'],\n",
       "             '-92233632905977373141680790637858152932': ['CTF-2-AA.cif'],\n",
       "             '87462548598825817567864163108509': ['AB-COF.cif'],\n",
       "             '-9223363290597787006-2740737862153764056': ['TpTG-Br.cif'],\n",
       "             '8746257038940-4112169758360158899': ['Py-Azine_COF.cif'],\n",
       "             '8746256997289-2570172566850224241': ['CTF-2-AB.cif'],\n",
       "             '8746254772151-5829827336514721696': ['Star-COF-3.cif'],\n",
       "             '8746257038491-5429514288909786467': ['TpBD-NO2.cif'],\n",
       "             '8746257020101391596095216361010': ['Tp-Por-COF-AB.cif'],\n",
       "             '8746254757801-663064141288594415': ['4PE-2P.cif'],\n",
       "             '-9223363290599941558-8462556643765084278': ['COF-202.cif'],\n",
       "             '87462570200453982785979926164879': ['TRIPTA.cif'],\n",
       "             '8746254859959-5415577928808323580': ['DhaTph-25.cif'],\n",
       "             '-9223363290599990619-5480813512157242839': ['Py-23-DHPh_COF.cif'],\n",
       "             '-9223363290600009149-5459755989592377589': ['NUS-2.cif'],\n",
       "             '-9223363290597786943-1470225879814112717': ['TT-COF-FF.cif'],\n",
       "             '-9223363290599916337-3393323492013352493': ['NN-TAPH-COF.cif'],\n",
       "             '87462548593216337563225613816929': ['ZnPc-NDI.cif'],\n",
       "             '8746254766761-4333048190130190524': ['COF-366.cif'],\n",
       "             '-92233632905977809396058500952632820027': ['T-COF_1.cif'],\n",
       "             '87462548599243324595539812954791': ['PCTF-2.cif'],\n",
       "             '8746254859868-4205186397055464949': ['Star-COF-1.cif'],\n",
       "             '-9223363290597737279-2621251389098031644': ['NPN-3.cif'],\n",
       "             '-92233632905977809322177768918262298479': ['iPrTAPB-TFPB.cif'],\n",
       "             '-92233632905977367326507611530291555786': ['COF-16A.cif'],\n",
       "             '-9223363290597788128-3706279885299382035': ['COF-14A.cif'],\n",
       "             '-9223363290599941439-7975823229005426324': ['COF-BTA-PDA.cif'],\n",
       "             '8746254774711-4333048190130190524': ['Por-COF-jmca.cif'],\n",
       "             '87462547745992708519445519109125': ['ZnP-COF.cif'],\n",
       "             '87462570383932555398341653980481': ['TFP-COF.cif'],\n",
       "             '8746254834415-5182959242576193325': ['DhaTab-25.cif'],\n",
       "             '-9223363290597739418-5459755989592377589': ['COF-JLU2.cif'],\n",
       "             '8746254766789-1634158211373321153': ['ATFG-COF.cif'],\n",
       "             '-9223363290600009156-2078329581267224539': ['TpBD-NHCOCH3.cif'],\n",
       "             '-92233632905999415934513119025670960811': ['2D-NiPc-BTDA-COF.cif'],\n",
       "             '8746254644053-7995097676652626572': ['ZnPc-Py.cif'],\n",
       "             '8746256987887-5182959242576193325': ['DhaTab.cif'],\n",
       "             '8746257038498-5429514288909786467': ['TpBD-2NO2.cif'],\n",
       "             '8746256997359-3626019396860735053': ['Tp-Stb.cif'],\n",
       "             '-9223363290597753961-7724615724932669631': ['DhaTta-23.cif'],\n",
       "             '-9223363290599941453-7847335018563329668': ['TfpBDH.cif'],\n",
       "             '-9223363290600140796-3574545759938935600': ['TpBD.cif'],\n",
       "             '-9223363290597787911-2835285674148477365': ['COF-42-bnn.cif'],\n",
       "             '-92233632906000617457238463576903262940': ['Py-22-BPYPH_COF.cif'],\n",
       "             '8746257038442-5601366117776764116': ['TThPP.cif'],\n",
       "             '-9223363290597787932-2429905759418261352': ['PI-COF-5-2P.cif'],\n",
       "             '8746254774550-7995097676652626572': ['ZnPc-DPB.cif'],\n",
       "             '87462548343382929901888391219434': ['PI-COF-4-0P.cif'],\n",
       "             '87462548598821663228090058036873': ['COF-LZU8.cif'],\n",
       "             '8746257021795-2656821109427293902': ['CPF-1.cif'],\n",
       "             '-92233632906000089888797375928474384844': ['PCTF-4.cif'],\n",
       "             '8746254644158-92558836144561319': ['iPrTAPB-TFP.cif'],\n",
       "             '8746256988708-7975823229005426324': ['COF-LZU1.cif'],\n",
       "             '-9223363290597739411-6824149782699303614': ['3D-Py-COF-0P.cif'],\n",
       "             '-92233632905977558723298670313958587339': ['TAPB-PDA_COF.cif'],\n",
       "             '-9223363290599915979-5228475268487889842': ['TP-COF.cif'],\n",
       "             '-9223363290600061766-8510631544280808519': ['TFPT-COF.cif'],\n",
       "             '-9223363290597737265-5037284332436521289': ['EB-COF-I.cif'],\n",
       "             '8746257039066-6257390139083902196': ['AzO-COF.cif'],\n",
       "             '87462547139415817567864163108509': ['ACOF-1.cif'],\n",
       "             '87462547140322798273172608073553': ['CoPc-PorDBA.cif'],\n",
       "             '8746254785088-9202712146330212410': ['DhaTph-23.cif'],\n",
       "             '-92233632905999409416959896402241330592': ['TpPa-F4.cif'],\n",
       "             '87462548598121925148689310272939': ['DA-COF.cif'],\n",
       "             '-9223363290597737237-6354258429294678133': ['COF-10.cif'],\n",
       "             '-92233632906000618085171447758100298824': ['ICOF-1.cif'],\n",
       "             '8746257021928838867986581257261': ['TpTG-Cl.cif'],\n",
       "             '8746254714025-2260718482799028764': ['COF-JLU3.cif'],\n",
       "             '-9223363290597780953-7565255481765391067': ['TPT-COF-1.cif'],\n",
       "             '8746254757703462337425666591040': ['CuP-TFPh.cif'],\n",
       "             '8746254859987-7812016845839847220': ['CC-TAPH-COF.cif'],\n",
       "             '87462548592934314982493571071725': ['NPN-2.cif'],\n",
       "             '8746257020136-2429905759418261352': ['PI-COF-5-0P.cif'],\n",
       "             '8746257039038-6651428615628178148': ['COF-105.cif'],\n",
       "             '87462569972051366659451524099432': ['TpPa-SO3H.cif'],\n",
       "             '-92233632906000618787011546333021180368': ['COF-5.cif'],\n",
       "             '-9223363290600009156-8610522236558277597': ['PPy-COF.cif'],\n",
       "             '-9223363290597786922-4321360235957904543': ['COF-8.cif'],\n",
       "             '8746256987754-4883418671890807909': ['COF-6.cif'],\n",
       "             '-92233632906001317242980748175378348874': ['CTF-1.cif'],\n",
       "             '8746256997177-439855223494294138': ['PI-3_COF.cif'],\n",
       "             '-9223363290600061920-6780518964507029355': ['DBA-COF_1.cif']})"
      ]
     },
     "execution_count": 3,
     "metadata": {},
     "output_type": "execute_result"
    }
   ],
   "source": [
    "RemoveDuplicates.get_graph_hash_dict(structures)"
   ]
  },
  {
   "cell_type": "code",
   "execution_count": 12,
   "metadata": {},
   "outputs": [
    {
     "data": {
      "text/plain": [
       "614313006887747725"
      ]
     },
     "execution_count": 12,
     "metadata": {},
     "output_type": "execute_result"
    }
   ],
   "source": [
    "hash(str(reduced.composition))"
   ]
  },
  {
   "cell_type": "code",
   "execution_count": null,
   "metadata": {},
   "outputs": [],
   "source": []
  }
 ],
 "metadata": {
  "kernelspec": {
   "display_name": "Python 3",
   "language": "python",
   "name": "python3"
  },
  "language_info": {
   "codemirror_mode": {
    "name": "ipython",
    "version": 3
   },
   "file_extension": ".py",
   "mimetype": "text/x-python",
   "name": "python",
   "nbconvert_exporter": "python",
   "pygments_lexer": "ipython3",
   "version": "3.6.8"
  }
 },
 "nbformat": 4,
 "nbformat_minor": 2
}
